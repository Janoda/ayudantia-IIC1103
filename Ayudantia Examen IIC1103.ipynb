{
 "cells": [
  {
   "cell_type": "markdown",
   "metadata": {},
   "source": [
    "# if portaleducativo:\n",
    "#  &nbsp;&nbsp;&nbsp;&nbsp; &nbsp; pasar_ramos()"
   ]
  },
  {
   "cell_type": "markdown",
   "metadata": {},
   "source": [
    "# Mini Repaso"
   ]
  },
  {
   "cell_type": "markdown",
   "metadata": {},
   "source": [
    "## Archivos\n",
    "\n"
   ]
  },
  {
   "cell_type": "markdown",
   "metadata": {},
   "source": [
    "### 2 formas de abrir archivos\n",
    "* with open\n",
    "* open\n",
    "\n",
    " * 'r' = read\n",
    " * 'w' = write-only (puntero comienza al principio)\n",
    " * 'a' = append new info (puntero comienza al final)"
   ]
  },
  {
   "cell_type": "code",
   "execution_count": 6,
   "metadata": {
    "scrolled": false
   },
   "outputs": [
    {
     "name": "stdout",
     "output_type": "stream",
     "text": [
      "Mirando las estrellas me acordé de ti\n",
      "\n"
     ]
    }
   ],
   "source": [
    "f = open(\"letra_trellas.txt\", 'r')\n",
    "print(f.readline())\n"
   ]
  },
  {
   "cell_type": "markdown",
   "metadata": {},
   "source": [
    "El puntero avanzara con cada readline, por lo que si quieres la informacion, debes guardarla antes de realizar otro readline()"
   ]
  },
  {
   "cell_type": "code",
   "execution_count": 2,
   "metadata": {
    "scrolled": true
   },
   "outputs": [
    {
     "name": "stdout",
     "output_type": "stream",
     "text": [
      "Y me pregunté si habrá alguien para mí\n",
      "\n"
     ]
    }
   ],
   "source": [
    "print(f.readline())\n"
   ]
  },
  {
   "cell_type": "markdown",
   "metadata": {},
   "source": [
    "Cada linea la podemos separar usando split, y de acuerdo a un string que entreguemos, si es vacio, se realizara en cada espacio. \n",
    "Notar que quedan los saltos de linea, por lo que si no los queremos, debemos usar antes la funcion strip()"
   ]
  },
  {
   "cell_type": "code",
   "execution_count": 7,
   "metadata": {},
   "outputs": [
    {
     "name": "stdout",
     "output_type": "stream",
     "text": [
      "['Y', 'me', 'pregunté', 'si', 'habrá', 'alguien', 'para', 'mí\\n']\n",
      "['Quizás', 'en', 'otra', 'galaxia', 'lejos', 'de', 'aquí']\n"
     ]
    }
   ],
   "source": [
    "print(f.readline().split(\" \"))\n",
    "print(f.readline().strip().split(\" \"))\n",
    "f.close()\n"
   ]
  },
  {
   "cell_type": "markdown",
   "metadata": {},
   "source": [
    "Otro metodo comun para leer archivos es usar readlines(), que entrega una lista en donde cada elemento es una linea del archivo."
   ]
  },
  {
   "cell_type": "code",
   "execution_count": 8,
   "metadata": {},
   "outputs": [
    {
     "name": "stdout",
     "output_type": "stream",
     "text": [
      "['Mirando las estrellas me acordé de ti\\n', 'Y me pregunté si habrá alguien para mí\\n', 'Quizás en otra galaxia lejos de aquí\\n', 'No sé, no sé\\n', '\\n', 'Dando vueltas por Marte alguien conocí\\n', 'Y tuvimos un date en la luna\\n', 'Te juro que me gustaba hasta que pensé en usted, usted\\n', 'Y ya he viajado en el tiempo, he conocido el espacio\\n', '\\n', 'Y no encuentro a nadie como tú\\n', 'Me besé con un alien, tuve sexo con marcianas\\n', 'Y nadie me gusta más que tú\\n', 'Yo seguiré buscando mil años luz\\n', '\\n', 'Uh-uh\\n', 'Uh-uh\\n', 'Uh-uh\\n', '\\n', 'Mirando las estrellas me acordé de ti\\n', 'Y me pregunté si habrá alguien para mí\\n', 'Quizás en otra galaxia lejos de aquí\\n', 'No sé, no sé, ey\\n', '\\n', 'Uh-uh\\n', 'Uh-uh\\n', 'Uh-uh\\n', '\\n', 'Letra: https://letrasbd.com/bad-bunny/trellas/\\n']\n"
     ]
    }
   ],
   "source": [
    "\n",
    "f = open(\"letra_trellas.txt\", 'r')\n",
    "print(f.readlines())\n",
    "f.close()"
   ]
  },
  {
   "cell_type": "markdown",
   "metadata": {},
   "source": [
    "## Listas de listas "
   ]
  },
  {
   "cell_type": "code",
   "execution_count": 11,
   "metadata": {},
   "outputs": [
    {
     "name": "stdout",
     "output_type": "stream",
     "text": [
      "[0, 0, 0, 0]\n",
      "[0, 0, 0, 0]\n",
      "[0, 0, 0, 0]\n",
      "[0, 0, 0, 0]\n",
      "[0, 0, 0, 0]\n",
      "Despues de cambiar el elemento perteneciente a la fila 1, columna 2 \n",
      "\n",
      "[0, 0, 0, 0]\n",
      "[0, 0, 120, 0]\n",
      "[0, 0, 0, 0]\n",
      "[0, 0, 0, 0]\n",
      "[0, 0, 0, 0]\n"
     ]
    }
   ],
   "source": [
    "filas = 5\n",
    "columnas = 3\n",
    "\n",
    "# lista de listas, filas cantidad de listas en mi matriz, columnas cantidad de elementos en cada lista.\n",
    "matriz = []\n",
    "\n",
    "for i in range(filas):\n",
    "    fila = [0 for i in range(columnas)]\n",
    "    fila.append(0)\n",
    "    matriz.append(fila)\n",
    "\n",
    "\n",
    "for i in matriz:\n",
    "    print(i)\n",
    "\n",
    "\n",
    "\n",
    "print(\"Despues de cambiar el elemento perteneciente a la fila 1, columna 2 \\n\")\n",
    "matriz[1][2] = 120\n",
    "\n",
    "for i in matriz:\n",
    "    print(i)"
   ]
  },
  {
   "cell_type": "markdown",
   "metadata": {},
   "source": [
    "## Ordenamiento  y oop"
   ]
  },
  {
   "cell_type": "code",
   "execution_count": 12,
   "metadata": {},
   "outputs": [
    {
     "name": "stdout",
     "output_type": "stream",
     "text": [
      "Orden descendente:\n",
      "[perro, bob, rex, max]\n",
      "Ahora ascendente:\n",
      "[max, rex, bob, perro]\n"
     ]
    }
   ],
   "source": [
    "def porEdad(e):\n",
    "  return e.edad\n",
    "\n",
    "class perro:\n",
    "    def __init__(self, nombre, edad):\n",
    "        self.nombre = nombre\n",
    "        self.edad = edad\n",
    "    def __repr__(self):\n",
    "        return self.nombre\n",
    "\n",
    "perro1 = perro(\"bob\", 7)\n",
    "perro2 = perro(\"max\", 17)\n",
    "perro3 = perro(\"rex\", 10)\n",
    "perro4 = perro(\"perro\", 2)\n",
    "\n",
    "perros = [perro1, perro2 ,perro3, perro4]\n",
    "\n",
    "# Ordenamos usando la funcion porEdad en base a las edades\n",
    "perros.sort(key=porEdad) \n",
    "print(\"Orden descendente:\")\n",
    "print(perros)\n",
    "\n",
    "# Se ordena ascendentemente, si queremos \n",
    "print(\"Ahora ascendente:\")\n",
    "perros.sort(reverse=True, key=porEdad) \n",
    "print(perros)"
   ]
  },
  {
   "cell_type": "markdown",
   "metadata": {},
   "source": [
    "# Ejercicio (oop, lista de listas, archivos, ordenamiento)"
   ]
  },
  {
   "cell_type": "markdown",
   "metadata": {},
   "source": [
    "El ejercicio consistira en simular un torneo de futbol. Para esto, lo primero que debemos hacer sera crear 2 clases, una para los equipos y otra para los torneos.\n",
    "\n",
    "La clase de los equipos debera contar con los siguientes atributos:\n",
    "* nombre: Nombre del equipo\n",
    "* puntos: Los puntos del equipo en el torneo\n",
    "* formacion: sera una lista de listas que contendra a los \"jugadores\" del equipo, los jugadores normales los denotaremos con una X. Los goleadores estrella con un numero K, donde K es la destreza del goleador. Por ejemplo una formacion 4-3-3 sera una lista que tendra 3 listas, la primera con 4 jugadores, la segunda con 3 y la tercera con 3. A la ultima de estas listas diremos que son los delanteros.\n",
    "\n",
    "Y los siguientes metodos:\n",
    "* contratacion_goleador(destreza): Cambia uno de sus jugadores normales por un goleador estrella, este se ubicara en la posicion de delantero (en cualquiera disponible). (Solo habra un maximo de un goleador estrella por equipo)\n",
    "\n",
    "&nbsp;\n",
    "\n",
    "Ademas debemos crear una clase torneo que cuente con los siguientes atributos \n",
    "* equipos: una lista que contenga todos los equipos que participen en el campeonato\n",
    "* nombre: el nombre del torneo\n",
    "\n",
    "Y los siguientes metodos:\n",
    "* agregar_equipo(equipo): Agrega un nuevo equipo a la lista de equipos\n",
    "* simular_partido(nombre_equipo1, nombre_equipo2, resultado_tentativo): En base al resultado_tentativo (de la forma N1-N2, donde N1 son los goles tentativos por el equipo 1 y N2 los del equipo 2) y la presencia de goleadores estrella calcula el resultado final. Si ningun equipo cuenta con goleador estrella, entonces el resultado final del partido sera el resultado tentativo. Si algun equipo (o ambos), cuentan con algun goleador estrella, se debera sumar a su equipo un numero aleatorio de goles entre 0 y K, donde K es la destreza del goleador. Depues de calcular el resultado final, al equipo ganador se le sumaran 3 puntos. En caso de empate, se suma un punto a cada equipo.\n",
    "\n",
    "\n",
    "&nbsp;\n",
    "\n",
    "Para simular tu campeonato se entregaran 3 archivos.\n",
    "equipos.txt: Cada linea correspondera a la informacion de un equipo, y sera de la forma: **nombre_equipo;formacion**, donde formacion es un string de la forma \"N1-N2-N3-...\" donde los N representan la cantidad de jugadores en dicha linea o posicion. Por ejemplo, 4-3-3 implica que hay 4 jugadores, despues 3 y luego 3. En la formacion no se incluira al arquero, que es siempre estatico, y por ende los N sumaran 10\n",
    "\n",
    "contrataciones.txt: Archivo en la que cada linea sera de la forma **nombre_equipo;destreza**, donde nombre del equipo sera el nombre del equipo al que ingresara el goleador estrella y destreza su destreza. Habra maximo un goleador estrella por equipo.\n",
    "\n",
    "resultados_tentativos.txt: Archivo en la que cada linea traera la informacion tentativa de algun encuentro entre 2 equipos de la forma: **equipo1,equipo2,marcador_tentativo**, donde marcador tentativo sera de la forma **N1-N2**, donde N1 son los goles tentativos por el equipo 1 y N2 los del equipo 2.\n",
    "Al final, deberas crear un archivo \"tabla_final.txt\", donde cada linea sera de la forma **nombre_equipo;puntos** y estaran ordenadas del con mas puntos al con menos. (La primera linea del archivo sera el equipo ganador) \n",
    "\n"
   ]
  },
  {
   "cell_type": "markdown",
   "metadata": {},
   "source": [
    "## a) Crear clases Equipo;"
   ]
  },
  {
   "cell_type": "code",
   "execution_count": 13,
   "metadata": {},
   "outputs": [],
   "source": [
    "class Equipo:\n",
    "    def __init__(self, nombre, formacion):\n",
    "        self.nombre = nombre\n",
    "        self.formacion = formacion #Formacion es lista de listas, y la ultima de las listas son los delanteros.\n",
    "        self.puntos = 0\n",
    "    def contratacion_goleador(self, destreza):\n",
    "        self.formacion[-1][0] = destreza\n",
    "        "
   ]
  },
  {
   "cell_type": "markdown",
   "metadata": {},
   "source": [
    "## b) Crear equipos\n"
   ]
  },
  {
   "cell_type": "code",
   "execution_count": 25,
   "metadata": {},
   "outputs": [],
   "source": [
    "f = open(\"equipos.txt\", 'r')\n",
    "lista_equipos = []\n",
    "for linea in f.readlines():\n",
    "    attrs = linea.strip().split(';')\n",
    "    nombre = attrs[0]\n",
    "    formacion = []\n",
    "    form = attrs[1].split('-')\n",
    "\n",
    "    for i in form:\n",
    "        fila = [\"X\" for j in range(int(i))]\n",
    "        formacion.append(fila)\n",
    "    equipo = Equipo(nombre, formacion)\n",
    "    lista_equipos.append(equipo)\n",
    "f.close()"
   ]
  },
  {
   "cell_type": "code",
   "execution_count": 27,
   "metadata": {},
   "outputs": [
    {
     "name": "stdout",
     "output_type": "stream",
     "text": [
      "Univ Católica [['X', 'X', 'X', 'X'], ['X', 'X', 'X'], ['X', 'X', 'X']]\n",
      "U. La Calera [['X', 'X', 'X', 'X'], ['X', 'X', 'X'], ['X', 'X', 'X']]\n",
      "Unión Española  [['X', 'X', 'X', 'X', 'X'], ['X', 'X'], ['X', 'X'], ['X']]\n",
      "Curicó Unido [['X', 'X', 'X', 'X'], ['X'], ['X', 'X'], ['X'], ['X', 'X']]\n",
      "Antofagasta [['X', 'X', 'X', 'X'], ['X'], ['X', 'X'], ['X'], ['X', 'X']]\n",
      "U. de Chile [['X', 'X', 'X', 'X'], ['X'], ['X', 'X'], ['X'], ['X', 'X']]\n",
      "Huachipato [['X', 'X', 'X', 'X'], ['X'], ['X', 'X'], ['X'], ['X', 'X']]\n",
      "U. Concepción [['X', 'X', 'X', 'X'], ['X'], ['X', 'X'], ['X'], ['X', 'X']]\n",
      "Audax [['X', 'X', 'X', 'X', 'X'], ['X', 'X'], ['X', 'X'], ['X']]\n",
      "Everton [['X', 'X', 'X', 'X'], ['X', 'X', 'X'], ['X', 'X', 'X']]\n",
      "Wanderers [['X', 'X', 'X', 'X'], ['X'], ['X', 'X'], ['X'], ['X', 'X']]\n",
      "Cobresal [['X', 'X', 'X', 'X', 'X'], ['X', 'X'], ['X', 'X'], ['X']]\n",
      "Iquique [['X', 'X', 'X', 'X', 'X'], ['X', 'X'], ['X', 'X'], ['X']]\n",
      "Palestino [['X', 'X', 'X', 'X'], ['X'], ['X', 'X'], ['X'], ['X', 'X']]\n",
      "Coquimbo [['X', 'X', 'X', 'X', 'X'], ['X', 'X'], ['X', 'X'], ['X']]\n",
      "O'Higgins [['X', 'X', 'X', 'X', 'X'], ['X', 'X'], ['X', 'X'], ['X']]\n",
      "La Serena [['X', 'X', 'X', 'X', 'X'], ['X', 'X'], ['X', 'X'], ['X']]\n",
      "Colo Colo [['X', 'X', 'X', 'X', 'X'], ['X', 'X'], ['X', 'X'], ['X']]\n"
     ]
    }
   ],
   "source": [
    "for i in lista_equipos:\n",
    "    print(i.nombre, i.formacion)"
   ]
  },
  {
   "cell_type": "markdown",
   "metadata": {},
   "source": [
    "## C) Asignar jugadores estrella"
   ]
  },
  {
   "cell_type": "code",
   "execution_count": 34,
   "metadata": {},
   "outputs": [],
   "source": [
    "f = open(\"contrataciones.txt\", 'r')\n",
    "for linea in f.readlines():\n",
    "    attrs = linea.strip().split(';')\n",
    "    nombre_equipo = attrs[0]\n",
    "    destreza = int(attrs[1])\n",
    "    for i in lista_equipos:\n",
    "        if i.nombre == nombre_equipo:\n",
    "            i.contratacion_goleador(destreza)\n",
    "f.close()"
   ]
  },
  {
   "cell_type": "code",
   "execution_count": 35,
   "metadata": {},
   "outputs": [
    {
     "name": "stdout",
     "output_type": "stream",
     "text": [
      "Univ Católica [['X', 'X', 'X', 'X'], ['X', 'X', 'X'], ['X', 'X', 'X']]\n",
      "U. La Calera [['X', 'X', 'X', 'X'], ['X', 'X', 'X'], ['X', 'X', 'X']]\n",
      "Unión Española  [['X', 'X', 'X', 'X', 'X'], ['X', 'X'], ['X', 'X'], ['X']]\n",
      "Curicó Unido [['X', 'X', 'X', 'X'], ['X'], ['X', 'X'], ['X'], ['X', 'X']]\n",
      "Antofagasta [['X', 'X', 'X', 'X'], ['X'], ['X', 'X'], ['X'], ['X', 'X']]\n",
      "U. de Chile [['X', 'X', 'X', 'X'], ['X'], ['X', 'X'], ['X'], [3, 'X']]\n",
      "Huachipato [['X', 'X', 'X', 'X'], ['X'], ['X', 'X'], ['X'], [2, 'X']]\n",
      "U. Concepción [['X', 'X', 'X', 'X'], ['X'], ['X', 'X'], ['X'], [4, 'X']]\n",
      "Audax [['X', 'X', 'X', 'X', 'X'], ['X', 'X'], ['X', 'X'], ['X']]\n",
      "Everton [['X', 'X', 'X', 'X'], ['X', 'X', 'X'], ['X', 'X', 'X']]\n",
      "Wanderers [['X', 'X', 'X', 'X'], ['X'], ['X', 'X'], ['X'], ['X', 'X']]\n",
      "Cobresal [['X', 'X', 'X', 'X', 'X'], ['X', 'X'], ['X', 'X'], [4]]\n",
      "Iquique [['X', 'X', 'X', 'X', 'X'], ['X', 'X'], ['X', 'X'], [1]]\n",
      "Palestino [['X', 'X', 'X', 'X'], ['X'], ['X', 'X'], ['X'], ['X', 'X']]\n",
      "Coquimbo [['X', 'X', 'X', 'X', 'X'], ['X', 'X'], ['X', 'X'], [4]]\n",
      "O'Higgins [['X', 'X', 'X', 'X', 'X'], ['X', 'X'], ['X', 'X'], ['X']]\n",
      "La Serena [['X', 'X', 'X', 'X', 'X'], ['X', 'X'], ['X', 'X'], ['X']]\n",
      "Colo Colo [['X', 'X', 'X', 'X', 'X'], ['X', 'X'], ['X', 'X'], [1]]\n"
     ]
    }
   ],
   "source": [
    "for i in lista_equipos:\n",
    "    print(i.nombre, i.formacion)"
   ]
  },
  {
   "cell_type": "markdown",
   "metadata": {},
   "source": [
    "## d) Crear la clase del torneo \n"
   ]
  },
  {
   "cell_type": "code",
   "execution_count": 37,
   "metadata": {},
   "outputs": [],
   "source": [
    "import random\n",
    "class Torneo:\n",
    "    def __init__(self, nombre, equipos):\n",
    "        self.nombre = nombre \n",
    "        self.equipos = equipos #lista de instancias de equipo\n",
    "    def agregar_equipo(self, equipo):\n",
    "        self.equipos.append(equipo)\n",
    "    def simular_partido(self, n_equipo1, n_equipo2, res_tentativo): #res tentativo era N1-N2\n",
    "        for i in self.equipos:\n",
    "            if i.nombre == n_equipo1:\n",
    "                equipo1 = i\n",
    "            if i.nombre == n_equipo2:\n",
    "                equipo2 = i\n",
    "        attrs = res_tentativo.split('-')\n",
    "        goles_t1 = int(attrs[0])\n",
    "        goles_t2 = int(attrs[1])\n",
    "        \n",
    "        goleador1 = 0\n",
    "        goleador2 = 0\n",
    "        if equipo1.formacion[-1][0]!=\"X\":\n",
    "            goleador1 = equipo1.formacion[-1][0]\n",
    "        if equipo2.formacion[-1][0]!=\"X\":\n",
    "            goleador2 = equipo2.formacion[-1][0]\n",
    "            \n",
    "        goles_f1 = goles_t1 + random.randint(0, goleador1)\n",
    "        goles_f2 = goles_t2 + random.randint(0, goleador2)\n",
    "        \n",
    "        if goles_f1 > goles_f2:\n",
    "            equipo1.puntos += 3\n",
    "        elif goles_f1 < goles_f2:\n",
    "            equipo2.puntos += 3\n",
    "        else:\n",
    "            equipo1.puntos += 1\n",
    "            equipo2.puntos += 1"
   ]
  },
  {
   "cell_type": "markdown",
   "metadata": {},
   "source": [
    "## e) Crear el campeonato y poblarlo\n"
   ]
  },
  {
   "cell_type": "code",
   "execution_count": 41,
   "metadata": {},
   "outputs": [
    {
     "name": "stdout",
     "output_type": "stream",
     "text": [
      "Univ Católica\n",
      "U. La Calera\n",
      "Unión Española \n",
      "Curicó Unido\n",
      "Antofagasta\n",
      "U. de Chile\n",
      "Huachipato\n",
      "U. Concepción\n",
      "Audax\n",
      "Everton\n",
      "Wanderers\n",
      "Cobresal\n",
      "Iquique\n",
      "Palestino\n",
      "Coquimbo\n",
      "O'Higgins\n",
      "La Serena\n",
      "Colo Colo\n"
     ]
    }
   ],
   "source": [
    "\n",
    "torneo = Torneo(\"Primera division\", lista_equipos)\n",
    "for i in torneo.equipos:\n",
    "    print(i.nombre, )"
   ]
  },
  {
   "cell_type": "markdown",
   "metadata": {},
   "source": [
    "## f) Simular el campeonato\n"
   ]
  },
  {
   "cell_type": "code",
   "execution_count": 45,
   "metadata": {},
   "outputs": [],
   "source": [
    "f = open(\"resultados_tentativos.txt\", \"r\")\n",
    "for linea in f.readlines():\n",
    "    \n",
    "    attrs = linea.strip().split(';')\n",
    "    n_equipo1 = attrs[0]\n",
    "    n_equipo2 = attrs[1]\n",
    "    res_t = attrs[2]\n",
    "    torneo.simular_partido(n_equipo1, n_equipo2, res_t)\n",
    "    \n",
    "f.close()"
   ]
  },
  {
   "cell_type": "code",
   "execution_count": 46,
   "metadata": {},
   "outputs": [
    {
     "name": "stdout",
     "output_type": "stream",
     "text": [
      "Univ Católica 83\n",
      "U. La Calera 100\n",
      "Unión Española  56\n",
      "Curicó Unido 99\n",
      "Antofagasta 67\n",
      "U. de Chile 139\n",
      "Huachipato 108\n",
      "U. Concepción 149\n",
      "Audax 67\n",
      "Everton 96\n",
      "Wanderers 80\n",
      "Cobresal 122\n",
      "Iquique 88\n",
      "Palestino 79\n",
      "Coquimbo 141\n",
      "O'Higgins 94\n",
      "La Serena 86\n",
      "Colo Colo 112\n"
     ]
    }
   ],
   "source": [
    "for i in torneo.equipos:\n",
    "    print(i.nombre, i.puntos)"
   ]
  },
  {
   "cell_type": "markdown",
   "metadata": {},
   "source": [
    "## g) Obtener a los ganadores"
   ]
  },
  {
   "cell_type": "markdown",
   "metadata": {},
   "source": [
    "Debes obtener a los ganadores y crear un nuevo archivo (\"tabla_final.txt\") donde cada linea sera de la forma equipo:puntos, y estan ordenados descendentemente segun la cantidad de puntos"
   ]
  },
  {
   "cell_type": "code",
   "execution_count": 59,
   "metadata": {},
   "outputs": [
    {
     "name": "stdout",
     "output_type": "stream",
     "text": [
      "U. Concepción 149\n",
      "Coquimbo 141\n",
      "U. de Chile 139\n",
      "Cobresal 122\n",
      "Colo Colo 112\n",
      "Huachipato 108\n",
      "U. La Calera 100\n",
      "Curicó Unido 99\n",
      "Everton 96\n",
      "O'Higgins 94\n",
      "Iquique 88\n",
      "La Serena 86\n",
      "Univ Católica 83\n",
      "Wanderers 80\n",
      "Palestino 79\n",
      "Antofagasta 67\n",
      "Audax 67\n",
      "Unión Española  56\n"
     ]
    }
   ],
   "source": [
    "def porPuntos(el):\n",
    "    return el.puntos\n",
    "lista = torneo.equipos\n",
    "lista.sort(reverse = True, key = porPuntos )\n",
    "for i in lista:\n",
    "    print(i.nombre ,i.puntos)"
   ]
  },
  {
   "cell_type": "code",
   "execution_count": 62,
   "metadata": {},
   "outputs": [],
   "source": [
    "f = open(\"tabla_final.txt\", \"w\")\n",
    "newline =''\n",
    "for i in lista:\n",
    "    f.write(newline)\n",
    "    f.write(i.nombre + ';' + str(i.puntos) )\n",
    "    newline = '\\n'\n",
    "    \n",
    "f.close()"
   ]
  },
  {
   "cell_type": "code",
   "execution_count": null,
   "metadata": {},
   "outputs": [],
   "source": []
  }
 ],
 "metadata": {
  "kernelspec": {
   "display_name": "Python 3",
   "language": "python",
   "name": "python3"
  },
  "language_info": {
   "codemirror_mode": {
    "name": "ipython",
    "version": 3
   },
   "file_extension": ".py",
   "mimetype": "text/x-python",
   "name": "python",
   "nbconvert_exporter": "python",
   "pygments_lexer": "ipython3",
   "version": "3.7.9"
  }
 },
 "nbformat": 4,
 "nbformat_minor": 4
}
