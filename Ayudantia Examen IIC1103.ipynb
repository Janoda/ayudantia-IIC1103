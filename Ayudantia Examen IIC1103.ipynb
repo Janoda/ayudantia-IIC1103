{
 "cells": [
  {
   "cell_type": "markdown",
   "metadata": {},
   "source": [
    "# if portaleducativo:\n",
    "#  &nbsp;&nbsp;&nbsp;&nbsp; &nbsp; pasar_ramos()"
   ]
  },
  {
   "cell_type": "markdown",
   "metadata": {},
   "source": [
    "# Mini Repaso"
   ]
  },
  {
   "cell_type": "markdown",
   "metadata": {},
   "source": [
    "## Archivos\n",
    "\n"
   ]
  },
  {
   "cell_type": "markdown",
   "metadata": {},
   "source": [
    "### 2 formas de abrir archivos\n",
    "* with open\n",
    "* open\n",
    "\n",
    " * 'r' = read\n",
    " * 'w' = write-only (puntero comienza al principio)\n",
    " * 'a' = append new info (puntero comienza al final)"
   ]
  },
  {
   "cell_type": "code",
   "execution_count": null,
   "metadata": {
    "scrolled": true
   },
   "outputs": [],
   "source": [
    "f = open(\"letra_trellas.txt\", 'r')\n",
    "print(f.readline())\n"
   ]
  },
  {
   "cell_type": "markdown",
   "metadata": {},
   "source": [
    "El puntero avanzara con cada readline, por lo que si quieres la informacion, debes guardarla antes de realizar otro readline()"
   ]
  },
  {
   "cell_type": "code",
   "execution_count": null,
   "metadata": {
    "scrolled": true
   },
   "outputs": [],
   "source": [
    "print(f.readline())\n"
   ]
  },
  {
   "cell_type": "markdown",
   "metadata": {},
   "source": [
    "Cada linea la podemos separar usando split, y de acuerdo a un string que entreguemos, si es vacio, se realizara en cada espacio. \n",
    "Notar que quedan los saltos de linea, por lo que si no los queremos, debemos usar antes la funcion strip()"
   ]
  },
  {
   "cell_type": "code",
   "execution_count": null,
   "metadata": {},
   "outputs": [],
   "source": [
    "print(f.readline().split(\" \"))\n",
    "print(f.readline().strip().split(\" \"))\n",
    "f.close()"
   ]
  },
  {
   "cell_type": "markdown",
   "metadata": {},
   "source": [
    "Otro metodo comun para leer archivos es usar readlines(), que entrega una lista en donde cada elemento es una linea del archivo."
   ]
  },
  {
   "cell_type": "code",
   "execution_count": null,
   "metadata": {},
   "outputs": [],
   "source": [
    "\n",
    "f = open(\"letra_trellas.txt\", 'r')\n",
    "print(f.readlines())\n",
    "f.close()"
   ]
  },
  {
   "cell_type": "markdown",
   "metadata": {},
   "source": [
    "## Listas de listas "
   ]
  },
  {
   "cell_type": "code",
   "execution_count": null,
   "metadata": {},
   "outputs": [],
   "source": [
    "filas = 5\n",
    "columnas = 3\n",
    "\n",
    "# lista de listas, filas cantidad de listas en mi matriz, columnas cantidad de elementos en cada lista.\n",
    "matriz = []\n",
    "\n",
    "for i in range(filas):\n",
    "    fila = []\n",
    "    for j in range(columnas):\n",
    "        fila.append(0)\n",
    "    matriz.append(fila)\n",
    "\n",
    "\n",
    "for i in matriz:\n",
    "    print(i)\n",
    "\n",
    "\n",
    "\n",
    "print(\"Despues de cambiar el elemento perteneciente a la fila 1, columna 2 \\n\")\n",
    "matriz[1][2] = 120\n",
    "\n",
    "for i in matriz:\n",
    "    print(i)"
   ]
  },
  {
   "cell_type": "markdown",
   "metadata": {},
   "source": [
    "## Ordenamiento  y oop"
   ]
  },
  {
   "cell_type": "code",
   "execution_count": null,
   "metadata": {},
   "outputs": [],
   "source": [
    "def porEdad(e):\n",
    "  return e.edad\n",
    "\n",
    "class perro:\n",
    "    def __init__(self, nombre, edad):\n",
    "        self.nombre = nombre\n",
    "        self.edad = edad\n",
    "    def __repr__(self):\n",
    "        return self.nombre\n",
    "\n",
    "perro1 = perro(\"bob\", 7)\n",
    "perro2 = perro(\"max\", 17)\n",
    "perro3 = perro(\"rex\", 10)\n",
    "perro4 = perro(\"perro\", 2)\n",
    "\n",
    "perros = [perro1, perro2 ,perro3, perro4]\n",
    "\n",
    "# Ordenamos usando la funcion porEdad en base a las edades\n",
    "perros.sort(key=porEdad) \n",
    "print(\"Orden descendente:\")\n",
    "print(perros)\n",
    "\n",
    "# Se ordena ascendentemente, si queremos \n",
    "print(\"Ahora ascendente:\")\n",
    "perros.sort(reverse=True, key=porEdad) \n",
    "print(perros)"
   ]
  },
  {
   "cell_type": "markdown",
   "metadata": {},
   "source": [
    "# Ejercicio (oop, lista de listas, archivos, ordenamiento)"
   ]
  },
  {
   "cell_type": "markdown",
   "metadata": {},
   "source": [
    "El ejercicio consistira en simular un torneo de futbol. Para esto, lo primero que debemos hacer sera crear 2 clases, una para los equipos y otra para los torneos.\n",
    "\n",
    "La clase de los equipos debera contar con los siguientes atributos:\n",
    "* nombre: Nombre del equipo\n",
    "* puntos: Los puntos del equipo en el torneo\n",
    "* formacion: sera una lista de listas que contendra a los \"jugadores\" del equipo, los jugadores normales los denotaremos con una X. Los goleadores estrella con un numero K, donde K es la destreza del goleador. Por ejemplo una formacion 4-3-3 sera una lista que tendra 3 listas, la primera con 4 jugadores, la segunda con 3 y la tercera con 3. A la ultima de estas listas diremos que son los delanteros.\n",
    "\n",
    "Y los siguientes metodos:\n",
    "* contratacion_goleador(destreza): Cambia uno de sus jugadores normales por un goleador estrella, este se ubicara en la posicion de delantero (en cualquiera disponible). (Solo habra un maximo de un goleador estrella por equipo)\n",
    "\n",
    "&nbsp;\n",
    "\n",
    "Ademas debemos crear una clase torneo que cuente con los siguientes atributos \n",
    "* equipos: una lista que contenga todos los equipos que participen en el campeonato\n",
    "* nombre: el nombre del torneo\n",
    "\n",
    "Y los siguientes metodos:\n",
    "* agregar_equipo(equipo): Agrega un nuevo equipo a la lista de equipos\n",
    "* simular_partido(nombre_equipo1, nombre_equipo2, resultado_tentativo): En base al resultado_tentativo (de la forma N1-N2, donde N1 son los goles tentativos por el equipo 1 y N2 los del equipo 2) y la presencia de goleadores estrella calcula el resultado final. Si ningun equipo cuenta con goleador estrella, entonces el resultado final del partido sera el resultado tentativo. Si algun equipo (o ambos), cuentan con algun goleador estrella, se debera sumar a su equipo un numero aleatorio de goles entre 0 y K, donde K es la destreza del goleador. Depues de calcular el resultado final, al equipo ganador se le sumaran 3 puntos. En caso de empate, se suma un punto a cada equipo.\n",
    "\n",
    "\n",
    "&nbsp;\n",
    "\n",
    "Para simular tu campeonato se entregaran 3 archivos.\n",
    "equipos.txt: Cada linea correspondera a la informacion de un equipo, y sera de la forma: **nombre_equipo;formacion**, donde formacion es un string de la forma \"N1-N2-N3-...\" donde los N representan la cantidad de jugadores en dicha linea o posicion. Por ejemplo, 4-3-3 implica que hay 4 jugadores, despues 3 y luego 3. En la formacion no se incluira al arquero, que es siempre estatico, y por ende los N sumaran 10\n",
    "\n",
    "contrataciones.txt: Archivo en la que cada linea sera de la forma **nombre_equipo;destreza**, donde nombre del equipo sera el nombre del equipo al que ingresara el goleador estrella y destreza su destreza. Habra maximo un goleador estrella por equipo.\n",
    "\n",
    "resultados_tentativos.txt: Archivo en la que cada linea traera la informacion tentativa de algun encuentro entre 2 equipos de la forma: **equipo1,equipo2,marcador_tentativo**, donde marcador tentativo sera de la forma **N1-N2**, donde N1 son los goles tentativos por el equipo 1 y N2 los del equipo 2.\n",
    "Al final, deberas crear un archivo \"tabla_final.txt\", donde cada linea sera de la forma **nombre_equipo;puntos** y estaran ordenadas del con mas puntos al con menos. (La primera linea del archivo sera el equipo ganador) \n",
    "\n"
   ]
  },
  {
   "cell_type": "markdown",
   "metadata": {},
   "source": [
    "## a) Crear clases Equipo;"
   ]
  },
  {
   "cell_type": "code",
   "execution_count": null,
   "metadata": {},
   "outputs": [],
   "source": []
  },
  {
   "cell_type": "markdown",
   "metadata": {},
   "source": [
    "## b) Crear equipos\n"
   ]
  },
  {
   "cell_type": "code",
   "execution_count": null,
   "metadata": {},
   "outputs": [],
   "source": []
  },
  {
   "cell_type": "markdown",
   "metadata": {},
   "source": [
    "## C) Asignar jugadores estrella"
   ]
  },
  {
   "cell_type": "code",
   "execution_count": null,
   "metadata": {},
   "outputs": [],
   "source": []
  },
  {
   "cell_type": "markdown",
   "metadata": {},
   "source": [
    "## d) Crear la clase del torneo \n"
   ]
  },
  {
   "cell_type": "code",
   "execution_count": null,
   "metadata": {},
   "outputs": [],
   "source": []
  },
  {
   "cell_type": "markdown",
   "metadata": {},
   "source": [
    "## e) Crear el campeonato y poblarlo\n"
   ]
  },
  {
   "cell_type": "code",
   "execution_count": null,
   "metadata": {},
   "outputs": [],
   "source": []
  },
  {
   "cell_type": "markdown",
   "metadata": {},
   "source": [
    "## f) Simular el campeonato\n"
   ]
  },
  {
   "cell_type": "code",
   "execution_count": null,
   "metadata": {},
   "outputs": [],
   "source": []
  },
  {
   "cell_type": "markdown",
   "metadata": {},
   "source": [
    "## g) Obtener a los ganadores"
   ]
  },
  {
   "cell_type": "markdown",
   "metadata": {},
   "source": [
    "Debes obtener a los ganadores y crear un nuevo archivo (\"tabla_final.txt\") donde cada linea sera de la forma equipo:puntos, y estan ordenados descendentemente segun la cantidad de puntos"
   ]
  },
  {
   "cell_type": "code",
   "execution_count": null,
   "metadata": {},
   "outputs": [],
   "source": []
  }
 ],
 "metadata": {
  "kernelspec": {
   "display_name": "Python 3",
   "language": "python",
   "name": "python3"
  },
  "language_info": {
   "codemirror_mode": {
    "name": "ipython",
    "version": 3
   },
   "file_extension": ".py",
   "mimetype": "text/x-python",
   "name": "python",
   "nbconvert_exporter": "python",
   "pygments_lexer": "ipython3",
   "version": "3.7.9"
  }
 },
 "nbformat": 4,
 "nbformat_minor": 4
}
