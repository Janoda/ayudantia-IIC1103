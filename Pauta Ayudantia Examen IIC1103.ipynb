{
 "cells": [
  {
   "cell_type": "markdown",
   "metadata": {},
   "source": [
    "# Mini Repaso"
   ]
  },
  {
   "cell_type": "markdown",
   "metadata": {},
   "source": [
    "## Archivos\n",
    "\n"
   ]
  },
  {
   "cell_type": "markdown",
   "metadata": {},
   "source": [
    "### 2 formas de abrir archivos\n",
    "* with open\n",
    "* open\n",
    "\n",
    " * 'r' = read\n",
    " * 'w' = write-only (puntero comienza al principio)\n",
    " * 'a' = append new info (puntero comienza al final)"
   ]
  },
  {
   "cell_type": "code",
   "execution_count": 1,
   "metadata": {
    "scrolled": true
   },
   "outputs": [
    {
     "name": "stdout",
     "output_type": "stream",
     "text": [
      "Mirando las estrellas me acordé de ti\n",
      "\n"
     ]
    }
   ],
   "source": [
    "f = open(\"letra_trellas.txt\", 'r')\n",
    "print(f.readline())\n"
   ]
  },
  {
   "cell_type": "markdown",
   "metadata": {},
   "source": [
    "El puntero avanzara con cada readline, por lo que si quieres la informacion, debes guardarla antes de realizar otro readline()"
   ]
  },
  {
   "cell_type": "code",
   "execution_count": 2,
   "metadata": {},
   "outputs": [
    {
     "name": "stdout",
     "output_type": "stream",
     "text": [
      "Y me pregunté si habrá alguien para mí\n",
      "\n"
     ]
    }
   ],
   "source": [
    "print(f.readline())"
   ]
  },
  {
   "cell_type": "markdown",
   "metadata": {},
   "source": [
    "Cada linea la podemos separar usando split, y de acuerdo a un string que entreguemos, si es vacio, se realizara en cada espacio. \n",
    "Notar que quedan los saltos de linea, por lo que si no los queremos, debemos usar antes la funcion strip()"
   ]
  },
  {
   "cell_type": "code",
   "execution_count": 3,
   "metadata": {},
   "outputs": [
    {
     "name": "stdout",
     "output_type": "stream",
     "text": [
      "['Quizás', 'en', 'otra', 'galaxia', 'lejos', 'de', 'aquí\\n']\n",
      "['No', 'sé,', 'no', 'sé']\n"
     ]
    }
   ],
   "source": [
    "print(f.readline().split(\" \"))\n",
    "print(f.readline().strip().split(\" \"))\n",
    "f.close()"
   ]
  },
  {
   "cell_type": "markdown",
   "metadata": {},
   "source": [
    "Otro metodo comun para leer archivos es usar readlines(), que entrega una lista en donde cada elemento es una linea del archivo."
   ]
  },
  {
   "cell_type": "code",
   "execution_count": 4,
   "metadata": {},
   "outputs": [
    {
     "name": "stdout",
     "output_type": "stream",
     "text": [
      "['Mirando las estrellas me acordé de ti\\n', 'Y me pregunté si habrá alguien para mí\\n', 'Quizás en otra galaxia lejos de aquí\\n', 'No sé, no sé\\n', '\\n', 'Dando vueltas por Marte alguien conocí\\n', 'Y tuvimos un date en la luna\\n', 'Te juro que me gustaba hasta que pensé en usted, usted\\n', 'Y ya he viajado en el tiempo, he conocido el espacio\\n', '\\n', 'Y no encuentro a nadie como tú\\n', 'Me besé con un alien, tuve sexo con marcianas\\n', 'Y nadie me gusta más que tú\\n', 'Yo seguiré buscando mil años luz\\n', '\\n', 'Uh-uh\\n', 'Uh-uh\\n', 'Uh-uh\\n', '\\n', 'Mirando las estrellas me acordé de ti\\n', 'Y me pregunté si habrá alguien para mí\\n', 'Quizás en otra galaxia lejos de aquí\\n', 'No sé, no sé, ey\\n', '\\n', 'Uh-uh\\n', 'Uh-uh\\n', 'Uh-uh\\n', '\\n', 'Letra: https://letrasbd.com/bad-bunny/trellas/\\n']\n"
     ]
    }
   ],
   "source": [
    "f = open(\"letra_trellas.txt\", 'r')\n",
    "print(f.readlines())\n",
    "f.close()"
   ]
  },
  {
   "cell_type": "markdown",
   "metadata": {},
   "source": [
    "## Listas de listas "
   ]
  },
  {
   "cell_type": "code",
   "execution_count": 5,
   "metadata": {},
   "outputs": [
    {
     "name": "stdout",
     "output_type": "stream",
     "text": [
      "[0, 0, 0]\n",
      "[0, 0, 0]\n",
      "[0, 0, 0]\n",
      "[0, 0, 0]\n",
      "[0, 0, 0]\n",
      "Despues de cambiar el elemento perteneciente a la fila 1, columna 2 \n",
      "\n",
      "[0, 0, 0]\n",
      "[0, 0, 120]\n",
      "[0, 0, 0]\n",
      "[0, 0, 0]\n",
      "[0, 0, 0]\n"
     ]
    }
   ],
   "source": [
    "filas = 5\n",
    "columnas = 3\n",
    "\n",
    "# lista de listas, filas cantidad de listas en mi matriz, columnas cantidad de elementos en cada lista.\n",
    "matriz = []\n",
    "\n",
    "for i in range(filas):\n",
    "    fila = []\n",
    "    for j in range(columnas):\n",
    "        fila.append(0)\n",
    "    matriz.append(fila)\n",
    "\n",
    "\n",
    "for i in matriz:\n",
    "    print(i)\n",
    "\n",
    "\n",
    "\n",
    "print(\"Despues de cambiar el elemento perteneciente a la fila 1, columna 2 \\n\")\n",
    "matriz[1][2] = 120\n",
    "\n",
    "for i in matriz:\n",
    "    print(i)"
   ]
  },
  {
   "cell_type": "markdown",
   "metadata": {},
   "source": [
    "## Ordenamiento  y oop"
   ]
  },
  {
   "cell_type": "code",
   "execution_count": 6,
   "metadata": {},
   "outputs": [
    {
     "name": "stdout",
     "output_type": "stream",
     "text": [
      "Orden descendente:\n",
      "[perro, bob, rex, max]\n",
      "Ahora ascendente:\n",
      "[max, rex, bob, perro]\n"
     ]
    }
   ],
   "source": [
    "def porEdad(e):\n",
    "  return e.edad\n",
    "\n",
    "class perro:\n",
    "    def __init__(self, nombre, edad):\n",
    "        self.nombre = nombre\n",
    "        self.edad = edad\n",
    "    def __repr__(self):\n",
    "        return self.nombre\n",
    "\n",
    "perro1 = perro(\"bob\", 7)\n",
    "perro2 = perro(\"max\", 17)\n",
    "perro3 = perro(\"rex\", 10)\n",
    "perro4 = perro(\"perro\", 2)\n",
    "\n",
    "perros = [perro1, perro2 ,perro3, perro4]\n",
    "\n",
    "# Ordenamos usando la funcion porEdad en base a las edades\n",
    "perros.sort(key=porEdad) \n",
    "print(\"Orden descendente:\")\n",
    "print(perros)\n",
    "\n",
    "# Se ordena ascendentemente, si queremos \n",
    "print(\"Ahora ascendente:\")\n",
    "perros.sort(reverse=True, key=porEdad) \n",
    "print(perros)"
   ]
  },
  {
   "cell_type": "markdown",
   "metadata": {},
   "source": [
    "# Ejercicio (oop, lista de listas, archivos, ordenamiento)"
   ]
  },
  {
   "cell_type": "markdown",
   "metadata": {},
   "source": [
    "El ejercicio consistira en simular un torneo de futbol. Para esto, lo primero que debemos hacer sera crear 2 clases, una para los equipos y otra para los torneos.\n",
    "\n",
    "La clase de los equipos debera contar con los siguientes atributos:\n",
    "* nombre: Nombre del equipo\n",
    "* puntos: Los puntos del equipo en el torneo\n",
    "* formacion: sera una lista de listas que contendra a los \"jugadores\" del equipo, los jugadores normales los denotaremos con una X. Los goleadores estrella con un numero K, donde K es la destreza del goleador. Por ejemplo una formacion 4-3-3 sera una lista que tendra 3 listas, la primera con 4 jugadores, la segunda con 3 y la tercera con 3. A la ultima de estas listas diremos que son los delanteros.\n",
    "\n",
    "Y los siguientes metodos:\n",
    "* contratacion_goleador(destreza): Cambia uno de sus jugadores normales por un goleador estrella, este se ubicara en la posicion de delantero (en cualquiera disponible). (Solo habra un maximo de un goleador estrella por equipo)\n",
    "\\ \n",
    "\\ \n",
    "  \n",
    "Ademas debemos crear una clase torneo que cuente con los siguientes atributos \n",
    "* equipos: una lista que contenga todos los equipos que participen en el campeonato\n",
    "* nombre: el nombre del torneo\n",
    "\n",
    "Y los siguientes metodos:\n",
    "* agregar_equipo(equipo): Agrega un nuevo equipo a la lista de equipos\n",
    "* simular_partido(equipo1, equipo2, resultado_tentativo): En base al resultado_tentativo (de la forma N1-N2, donde N1 son los goles tentativos por el equipo 1 y N2 los del equipo 2) y la presencia de goleadores estrella calcula el resultado final. Si ningun equipo cuenta con goleador estrella, entonces el resultado final del partido sera el resultado tentativo. Si algun equipo (o ambos), cuentan con algun goleador estrella, se debera sumar a su equipo un numero aleatorio de goles entre 0 y K, donde K es la destreza del goleador. Depues de calcular el resultado final, al equipo ganador se le sumaran 3 puntos. En caso de empate, se suma un punto a cada equipo.\n",
    "* orde\n",
    "\n",
    "Para simular tu campeonato se entregaran 3 archivos.\n",
    "equipos.txt: Cada linea correspondera a la informacion de un equipo, y sera de la forma: **nombre_equipo;formacion**, donde formacion es un string de la forma \"N1-N2-N3-...\" donde los N representan la cantidad de jugadores en dicha linea o posicion. Por ejemplo, 4-3-3 implica que hay 4 jugadores, despues 3 y luego 3. En la formacion no se incluira al arquero, que es siempre estatico, y por ende los N sumaran 10\n",
    "\n",
    "contrataciones.txt: Archivo en la que cada linea sera de la forma **nombre_equipo;destreza**, donde nombre del equipo sera el nombre del equipo al que ingresara el goleador estrella y destreza su destreza. Habra maximo un goleador estrella por equipo.\n",
    "\n",
    "resultados_tentativos.txt: Archivo en la que cada linea traera la informacion tentativa de algun encuentro entre 2 equipos de la forma: **equipo1,equipo2,marcador_tentativo**, donde marcador tentativo sera de la forma N1-N2, donde N1 son los goles tentativos por el equipo 1 y N2 los del equipo 2.\n",
    "Al final, deberas crear un archivo \"tabla_final.txt\", donde cada linea sera de la forma **nombre_equipo;puntos** y estaran ordenadas del con mas puntos al con menos. (La primera linea del archivo sera el equipo ganador) "
   ]
  },
  {
   "cell_type": "markdown",
   "metadata": {},
   "source": [
    "## a) Crear clases Equipo;"
   ]
  },
  {
   "cell_type": "code",
   "execution_count": 7,
   "metadata": {},
   "outputs": [],
   "source": [
    "class Equipo:\n",
    "    def __init__(self, nombre, formacion):\n",
    "        self.nombre = nombre\n",
    "        self.formacion = formacion #lista de listas\n",
    "        self.puntos = 0\n",
    "    \n",
    "    def contratacion_goleador(self, destreza):\n",
    "        self.formacion[-1][0] = destreza #Seleccionamos la ultima lista (delanteros) y remplazamos el primero \n",
    "    \n",
    "    def __str__(self):\n",
    "        return \"equipo: \" + self.nombre\n",
    "    def __repr__(self):\n",
    "        a = self.__str__()\n",
    "        return a\n"
   ]
  },
  {
   "cell_type": "markdown",
   "metadata": {},
   "source": [
    "## b) Crear equipos\n",
    "Ahora debes crear todos los equipos , para esto debes leer el archivo equipos.txt, donde cada linea correspondera a la informacion de un equipo, y sera de la forma: nombre_equipo; formacion, donde formacion es un string de la forma \"N1-N2-N3-...\" donde los N representan la cantidad de jugadores en dicha linea o posicion. Por ejemplo, 4-3-3 implica que hay 4 jugadores, despues 3 y luego 3. En la formacion no se incluira al arquero, que es siempre estatico, y por ende los N sumaran 10. Ademas deberas guardar cada jugador como una X inicialmente"
   ]
  },
  {
   "cell_type": "markdown",
   "metadata": {},
   "source": [
    "Leeremos el archivo y de cada linea sacaremos el nombre y la formacion, pero debemos hacer algo para dejar la formacion como una lista de listas"
   ]
  },
  {
   "cell_type": "code",
   "execution_count": 8,
   "metadata": {},
   "outputs": [],
   "source": [
    "f = open(\"equipos.txt\", \"r\")\n",
    "equipos = []\n",
    "\n",
    "for linea in f.readlines():\n",
    "    attrs = linea.split(\";\")\n",
    "    nombre = attrs[0]\n",
    "    \n",
    "    # Formacion sera una lista de listas\n",
    "    formacion = [] #lista de listas\n",
    "    \n",
    "    # Agregamos las listas, cuyo largo sera el numero Ej una lista de 4, despues una de 3 y despues otra de 3.\n",
    "    \n",
    "    #Dado que tenemos \n",
    "    for i in attrs[1].strip().split(\"-\"): \n",
    "        lista = []\n",
    "        for j in range(int(i)):\n",
    "            lista.append(\"X\")\n",
    "        formacion.append(lista)\n",
    "    eq = Equipo(nombre, formacion)\n",
    "    equipos.append(eq)\n",
    "    \n",
    "        \n",
    "f.close()\n",
    "        \n",
    "        \n",
    "    "
   ]
  },
  {
   "cell_type": "code",
   "execution_count": 9,
   "metadata": {},
   "outputs": [
    {
     "name": "stdout",
     "output_type": "stream",
     "text": [
      "Univ Católica\n",
      "[['X', 'X', 'X', 'X'], ['X', 'X', 'X'], ['X', 'X', 'X']]\n",
      "U. La Calera\n",
      "[['X', 'X', 'X', 'X'], ['X', 'X', 'X'], ['X', 'X', 'X']]\n",
      "Unión Española \n",
      "[['X', 'X', 'X', 'X', 'X'], ['X', 'X'], ['X', 'X'], ['X']]\n",
      "Curicó Unido\n",
      "[['X', 'X', 'X', 'X'], ['X'], ['X', 'X'], ['X'], ['X', 'X']]\n",
      "Antofagasta\n",
      "[['X', 'X', 'X', 'X'], ['X'], ['X', 'X'], ['X'], ['X', 'X']]\n",
      "U. de Chile\n",
      "[['X', 'X', 'X', 'X'], ['X'], ['X', 'X'], ['X'], ['X', 'X']]\n",
      "Huachipato\n",
      "[['X', 'X', 'X', 'X'], ['X'], ['X', 'X'], ['X'], ['X', 'X']]\n",
      "U. Concepción\n",
      "[['X', 'X', 'X', 'X'], ['X'], ['X', 'X'], ['X'], ['X', 'X']]\n",
      "Audax\n",
      "[['X', 'X', 'X', 'X', 'X'], ['X', 'X'], ['X', 'X'], ['X']]\n",
      "Everton\n",
      "[['X', 'X', 'X', 'X'], ['X', 'X', 'X'], ['X', 'X', 'X']]\n",
      "Wanderers\n",
      "[['X', 'X', 'X', 'X'], ['X'], ['X', 'X'], ['X'], ['X', 'X']]\n",
      "Cobresal\n",
      "[['X', 'X', 'X', 'X', 'X'], ['X', 'X'], ['X', 'X'], ['X']]\n",
      "Iquique\n",
      "[['X', 'X', 'X', 'X', 'X'], ['X', 'X'], ['X', 'X'], ['X']]\n",
      "Palestino\n",
      "[['X', 'X', 'X', 'X'], ['X'], ['X', 'X'], ['X'], ['X', 'X']]\n",
      "Coquimbo\n",
      "[['X', 'X', 'X', 'X', 'X'], ['X', 'X'], ['X', 'X'], ['X']]\n",
      "O'Higgins\n",
      "[['X', 'X', 'X', 'X', 'X'], ['X', 'X'], ['X', 'X'], ['X']]\n",
      "La Serena\n",
      "[['X', 'X', 'X', 'X', 'X'], ['X', 'X'], ['X', 'X'], ['X']]\n",
      "Colo Colo\n",
      "[['X', 'X', 'X', 'X', 'X'], ['X', 'X'], ['X', 'X'], ['X']]\n"
     ]
    }
   ],
   "source": [
    "for i in equipos:\n",
    "    print(i.nombre)\n",
    "    print(i.formacion)\n"
   ]
  },
  {
   "cell_type": "markdown",
   "metadata": {},
   "source": [
    "## C) Asignar jugadores estrella"
   ]
  },
  {
   "cell_type": "code",
   "execution_count": 10,
   "metadata": {},
   "outputs": [],
   "source": [
    "f = open(\"contrataciones.txt\", 'r')\n",
    "\n",
    "for linea in f.readlines():\n",
    "    attrs = linea.strip().split(\";\")\n",
    "    nombre_equipo = attrs[0]\n",
    "    destreza = attrs[1]\n",
    "    for i in equipos:\n",
    "        if i.nombre == nombre_equipo:\n",
    "            i.contratacion_goleador(destreza)\n",
    "\n",
    "f.close()"
   ]
  },
  {
   "cell_type": "code",
   "execution_count": 11,
   "metadata": {
    "scrolled": true
   },
   "outputs": [
    {
     "name": "stdout",
     "output_type": "stream",
     "text": [
      "Univ Católica\n",
      "[['X', 'X', 'X', 'X'], ['X', 'X', 'X'], ['X', 'X', 'X']]\n",
      "U. La Calera\n",
      "[['X', 'X', 'X', 'X'], ['X', 'X', 'X'], ['X', 'X', 'X']]\n",
      "Unión Española \n",
      "[['X', 'X', 'X', 'X', 'X'], ['X', 'X'], ['X', 'X'], ['X']]\n",
      "Curicó Unido\n",
      "[['X', 'X', 'X', 'X'], ['X'], ['X', 'X'], ['X'], ['X', 'X']]\n",
      "Antofagasta\n",
      "[['X', 'X', 'X', 'X'], ['X'], ['X', 'X'], ['X'], ['X', 'X']]\n",
      "U. de Chile\n",
      "[['X', 'X', 'X', 'X'], ['X'], ['X', 'X'], ['X'], ['3', 'X']]\n",
      "Huachipato\n",
      "[['X', 'X', 'X', 'X'], ['X'], ['X', 'X'], ['X'], ['2', 'X']]\n",
      "U. Concepción\n",
      "[['X', 'X', 'X', 'X'], ['X'], ['X', 'X'], ['X'], ['4', 'X']]\n",
      "Audax\n",
      "[['X', 'X', 'X', 'X', 'X'], ['X', 'X'], ['X', 'X'], ['X']]\n",
      "Everton\n",
      "[['X', 'X', 'X', 'X'], ['X', 'X', 'X'], ['X', 'X', 'X']]\n",
      "Wanderers\n",
      "[['X', 'X', 'X', 'X'], ['X'], ['X', 'X'], ['X'], ['X', 'X']]\n",
      "Cobresal\n",
      "[['X', 'X', 'X', 'X', 'X'], ['X', 'X'], ['X', 'X'], ['4']]\n",
      "Iquique\n",
      "[['X', 'X', 'X', 'X', 'X'], ['X', 'X'], ['X', 'X'], ['1']]\n",
      "Palestino\n",
      "[['X', 'X', 'X', 'X'], ['X'], ['X', 'X'], ['X'], ['X', 'X']]\n",
      "Coquimbo\n",
      "[['X', 'X', 'X', 'X', 'X'], ['X', 'X'], ['X', 'X'], ['4']]\n",
      "O'Higgins\n",
      "[['X', 'X', 'X', 'X', 'X'], ['X', 'X'], ['X', 'X'], ['X']]\n",
      "La Serena\n",
      "[['X', 'X', 'X', 'X', 'X'], ['X', 'X'], ['X', 'X'], ['X']]\n",
      "Colo Colo\n",
      "[['X', 'X', 'X', 'X', 'X'], ['X', 'X'], ['X', 'X'], ['1']]\n"
     ]
    }
   ],
   "source": [
    "for i in equipos:\n",
    "    print(i.nombre)\n",
    "    print(i.formacion)\n"
   ]
  },
  {
   "cell_type": "markdown",
   "metadata": {},
   "source": [
    "## d) Crear la clase del torneo \n"
   ]
  },
  {
   "cell_type": "code",
   "execution_count": 12,
   "metadata": {},
   "outputs": [],
   "source": [
    "import random\n",
    "class Torneo:\n",
    "    def __init__(self, nombre):\n",
    "        self.nombre = nombre\n",
    "        self.equipos = []\n",
    "    def agregar_equipo(self, equipo): #recive una instancia de objeto.\n",
    "        self.equipos.append(equipo)\n",
    "        \n",
    "    def simular_partido(self, nombre_equipo1, nombre_equipo2, resultado_tentativo):\n",
    "        #Encontramos los equipos con el nombre_equipo que nos entregan\n",
    "        equipo1 = None\n",
    "        equipo2 = None\n",
    "        goles_tentativo1 = int(resultado_tentativo.split('-')[0])\n",
    "        goles_tentativo2 = int(resultado_tentativo.split('-')[1])\n",
    "        for i in self.equipos:\n",
    "            if i.nombre == nombre_equipo1:\n",
    "                equipo1 = i\n",
    "            elif i.nombre == nombre_equipo2:\n",
    "                equipo2 = i\n",
    "        #Chequeamos si alguno tiene un delantero estrella\n",
    "        goleador1 = 0\n",
    "        goleador2 = 0\n",
    "        if equipo1.formacion[-1][0] != \"X\":\n",
    "            goleador1 = int(equipo1.formacion[-1][0])\n",
    "            \n",
    "        if equipo2.formacion[-1][0] != \"X\":\n",
    "            goleador1 = int(equipo2.formacion[-1][0])\n",
    "            \n",
    "        \n",
    "        goles_final1 = goles_tentativo1 + random.randint(0,goleador1) #sumamos los goles tentativos y los del goleador\n",
    "        goles_final2 = goles_tentativo2 + random.randint(0,goleador2) #sumamos los goles tentativos y los del goleador\n",
    "        \n",
    "        if goles_final1 > goles_final2:\n",
    "            equipo1.puntos += 3\n",
    "        elif goles_final1 < goles_final2:\n",
    "            equipo2.puntos += 3\n",
    "        else:\n",
    "            equipo1.puntos+=1\n",
    "            equipo2.puntos+=1\n",
    "    \n",
    "    def ordenar_posiciones(self):\n",
    "        def por_puntos(el):\n",
    "            return el.puntos\n",
    "        self.equipos.sort(reverse = True, key=por_puntos)"
   ]
  },
  {
   "cell_type": "markdown",
   "metadata": {},
   "source": [
    "## e) Crear el campeonato y poblarlo\n"
   ]
  },
  {
   "cell_type": "code",
   "execution_count": 13,
   "metadata": {},
   "outputs": [],
   "source": [
    "torneo = Torneo(\"Primera division\")\n",
    "for i in equipos:\n",
    "    torneo.agregar_equipo(i)"
   ]
  },
  {
   "cell_type": "markdown",
   "metadata": {},
   "source": [
    "## f) Simular el campeonato\n",
    "Luego de tener el equipo poblado, debemos simular nuestro campeonato, para esto usaremos el archivo resultados, que traera en cada linea el resultado de algun encuentro entre 2 equipos de la forma: equipo1,equipo2,marcador_tentativo"
   ]
  },
  {
   "cell_type": "code",
   "execution_count": 14,
   "metadata": {},
   "outputs": [],
   "source": [
    "f = open(\"resultados.txt\", \"r\")\n",
    "for i in f.readlines():\n",
    "    attrs = i.strip().split(';')\n",
    "    equipo1 = attrs[0]\n",
    "    equipo2 = attrs[1]\n",
    "    resultado_tentativo = attrs[2]\n",
    "    torneo.simular_partido(equipo1, equipo2, resultado_tentativo)\n",
    "f.close()"
   ]
  },
  {
   "cell_type": "code",
   "execution_count": 15,
   "metadata": {},
   "outputs": [
    {
     "name": "stdout",
     "output_type": "stream",
     "text": [
      "Univ Católica 40\n",
      "U. La Calera 42\n",
      "Unión Española  38\n",
      "Curicó Unido 43\n",
      "Antofagasta 61\n",
      "U. de Chile 52\n",
      "Huachipato 50\n",
      "U. Concepción 38\n",
      "Audax 54\n",
      "Everton 44\n",
      "Wanderers 47\n",
      "Cobresal 50\n",
      "Iquique 55\n",
      "Palestino 51\n",
      "Coquimbo 53\n",
      "O'Higgins 57\n",
      "La Serena 44\n",
      "Colo Colo 53\n"
     ]
    }
   ],
   "source": [
    "for i in torneo.equipos:\n",
    "    print(i.nombre, i.puntos)\n",
    "\n",
    "\n"
   ]
  },
  {
   "cell_type": "markdown",
   "metadata": {},
   "source": [
    "## g) Obtener a los ganadores"
   ]
  },
  {
   "cell_type": "code",
   "execution_count": 16,
   "metadata": {},
   "outputs": [
    {
     "name": "stdout",
     "output_type": "stream",
     "text": [
      "Antofagasta 61\n",
      "O'Higgins 57\n",
      "Iquique 55\n",
      "Audax 54\n",
      "Coquimbo 53\n",
      "Colo Colo 53\n",
      "U. de Chile 52\n",
      "Palestino 51\n",
      "Huachipato 50\n",
      "Cobresal 50\n",
      "Wanderers 47\n",
      "Everton 44\n",
      "La Serena 44\n",
      "Curicó Unido 43\n",
      "U. La Calera 42\n",
      "Univ Católica 40\n",
      "Unión Española  38\n",
      "U. Concepción 38\n"
     ]
    }
   ],
   "source": [
    "torneo.ordenar_posiciones() # Aca se creo un metodo que ordena a los equipos segun su puntaje\n",
    "for i in torneo.equipos:\n",
    "    print(i.nombre, i.puntos)\n",
    "\n",
    "f = open(\"tabla_final.txt\", \"w\")\n",
    "newline = ''  #truco para no escribir un espacio de mas\n",
    "for i in torneo.equipos:\n",
    "    f.write(newline + i.nombre + ';' + str(i.puntos))\n",
    "    newline = \"\\n\"\n",
    "f.close()"
   ]
  },
  {
   "cell_type": "code",
   "execution_count": null,
   "metadata": {},
   "outputs": [],
   "source": []
  }
 ],
 "metadata": {
  "kernelspec": {
   "display_name": "Python 3",
   "language": "python",
   "name": "python3"
  },
  "language_info": {
   "codemirror_mode": {
    "name": "ipython",
    "version": 3
   },
   "file_extension": ".py",
   "mimetype": "text/x-python",
   "name": "python",
   "nbconvert_exporter": "python",
   "pygments_lexer": "ipython3",
   "version": "3.7.9"
  }
 },
 "nbformat": 4,
 "nbformat_minor": 4
}
